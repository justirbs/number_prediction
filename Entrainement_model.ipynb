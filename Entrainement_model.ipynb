{
 "cells": [
  {
   "attachments": {},
   "cell_type": "markdown",
   "id": "cbb8c16b",
   "metadata": {},
   "source": [
    " # Import des packages"
   ]
  },
  {
   "cell_type": "code",
   "execution_count": 1,
   "id": "7e5e7d52",
   "metadata": {},
   "outputs": [
    {
     "name": "stderr",
     "output_type": "stream",
     "text": [
      "2023-05-14 12:18:27.886828: I tensorflow/core/platform/cpu_feature_guard.cc:193] This TensorFlow binary is optimized with oneAPI Deep Neural Network Library (oneDNN) to use the following CPU instructions in performance-critical operations:  AVX2 AVX512F AVX512_VNNI FMA\n",
      "To enable them in other operations, rebuild TensorFlow with the appropriate compiler flags.\n",
      "2023-05-14 12:18:28.052081: I tensorflow/core/util/port.cc:104] oneDNN custom operations are on. You may see slightly different numerical results due to floating-point round-off errors from different computation orders. To turn them off, set the environment variable `TF_ENABLE_ONEDNN_OPTS=0`.\n",
      "2023-05-14 12:18:28.061783: W tensorflow/compiler/xla/stream_executor/platform/default/dso_loader.cc:64] Could not load dynamic library 'libcudart.so.11.0'; dlerror: libcudart.so.11.0: cannot open shared object file: No such file or directory\n",
      "2023-05-14 12:18:28.061808: I tensorflow/compiler/xla/stream_executor/cuda/cudart_stub.cc:29] Ignore above cudart dlerror if you do not have a GPU set up on your machine.\n",
      "2023-05-14 12:18:28.956195: W tensorflow/compiler/xla/stream_executor/platform/default/dso_loader.cc:64] Could not load dynamic library 'libnvinfer.so.7'; dlerror: libnvinfer.so.7: cannot open shared object file: No such file or directory\n",
      "2023-05-14 12:18:28.956427: W tensorflow/compiler/xla/stream_executor/platform/default/dso_loader.cc:64] Could not load dynamic library 'libnvinfer_plugin.so.7'; dlerror: libnvinfer_plugin.so.7: cannot open shared object file: No such file or directory\n",
      "2023-05-14 12:18:28.956439: W tensorflow/compiler/tf2tensorrt/utils/py_utils.cc:38] TF-TRT Warning: Cannot dlopen some TensorRT libraries. If you would like to use Nvidia GPU with TensorRT, please make sure the missing libraries mentioned above are installed properly.\n"
     ]
    }
   ],
   "source": [
    "import numpy as np\n",
    "from tensorflow import keras\n",
    "from tensorflow.keras import layers\n",
    "import matplotlib.pyplot as plt\n",
    "from PIL import Image"
   ]
  },
  {
   "attachments": {},
   "cell_type": "markdown",
   "id": "5a015d85",
   "metadata": {},
   "source": [
    "# Préparation des données"
   ]
  },
  {
   "cell_type": "code",
   "execution_count": 2,
   "id": "794d1a3f",
   "metadata": {},
   "outputs": [],
   "source": [
    "# MNIST a 10 classes différentes\n",
    "num_classes = 10\n",
    "\n",
    "# Les données sont des images 28x28 en niveau de gris\n",
    "input_shape = (28, 28, 1)\n",
    "\n",
    "# Chargement du jeu de données\n",
    "(x_train, y_train), (x_test, y_test) = keras.datasets.mnist.load_data()"
   ]
  },
  {
   "cell_type": "code",
   "execution_count": 3,
   "id": "2b12cbff",
   "metadata": {},
   "outputs": [],
   "source": [
    "# Sauvegarde de quelques données de test\n",
    "Image.fromarray(x_test[0], mode=\"L\").save(\"test1.png\")\n",
    "Image.fromarray(x_test[1], mode=\"L\").save(\"test2.png\")\n",
    "Image.fromarray(x_test[2], mode=\"L\").save(\"test3.png\")"
   ]
  },
  {
   "cell_type": "code",
   "execution_count": 4,
   "id": "53755845",
   "metadata": {},
   "outputs": [
    {
     "name": "stdout",
     "output_type": "stream",
     "text": [
      "x_train shape: (60000, 28, 28, 1)\n",
      "60000 train samples\n",
      "10000 test samples\n"
     ]
    }
   ],
   "source": [
    "# Mise à l'échelle\n",
    "x_train = x_train.astype(\"float32\") / 255\n",
    "x_test = x_test.astype(\"float32\") / 255\n",
    "# Vérification de la bonne forme des tenseurs (28, 28, 1)\n",
    "x_train = np.expand_dims(x_train, -1)\n",
    "x_test = np.expand_dims(x_test, -1)\n",
    "print(\"x_train shape:\", x_train.shape)\n",
    "print(x_train.shape[0], \"train samples\")\n",
    "print(x_test.shape[0], \"test samples\")\n",
    "\n",
    "\n",
    "# Préparation des labels\n",
    "y_train = keras.utils.to_categorical(y_train, num_classes)\n",
    "y_test = keras.utils.to_categorical(y_test, num_classes)"
   ]
  },
  {
   "attachments": {},
   "cell_type": "markdown",
   "id": "23e22208",
   "metadata": {},
   "source": [
    "# Construction du modèle "
   ]
  },
  {
   "cell_type": "code",
   "execution_count": 5,
   "id": "4e1ab7d6",
   "metadata": {},
   "outputs": [
    {
     "name": "stdout",
     "output_type": "stream",
     "text": [
      "Model: \"sequential\"\n",
      "_________________________________________________________________\n",
      " Layer (type)                Output Shape              Param #   \n",
      "=================================================================\n",
      " conv2d (Conv2D)             (None, 26, 26, 32)        320       \n",
      "                                                                 \n",
      " max_pooling2d (MaxPooling2D  (None, 13, 13, 32)       0         \n",
      " )                                                               \n",
      "                                                                 \n",
      " conv2d_1 (Conv2D)           (None, 11, 11, 128)       36992     \n",
      "                                                                 \n",
      " max_pooling2d_1 (MaxPooling  (None, 5, 5, 128)        0         \n",
      " 2D)                                                             \n",
      "                                                                 \n",
      " flatten (Flatten)           (None, 3200)              0         \n",
      "                                                                 \n",
      " dropout (Dropout)           (None, 3200)              0         \n",
      "                                                                 \n",
      " dense (Dense)               (None, 64)                204864    \n",
      "                                                                 \n",
      " dense_1 (Dense)             (None, 10)                650       \n",
      "                                                                 \n",
      "=================================================================\n",
      "Total params: 242,826\n",
      "Trainable params: 242,826\n",
      "Non-trainable params: 0\n",
      "_________________________________________________________________\n"
     ]
    },
    {
     "name": "stderr",
     "output_type": "stream",
     "text": [
      "2023-05-14 12:18:31.323952: W tensorflow/compiler/xla/stream_executor/platform/default/dso_loader.cc:64] Could not load dynamic library 'libcuda.so.1'; dlerror: libcuda.so.1: cannot open shared object file: No such file or directory\n",
      "2023-05-14 12:18:31.323997: W tensorflow/compiler/xla/stream_executor/cuda/cuda_driver.cc:265] failed call to cuInit: UNKNOWN ERROR (303)\n",
      "2023-05-14 12:18:31.324028: I tensorflow/compiler/xla/stream_executor/cuda/cuda_diagnostics.cc:156] kernel driver does not appear to be running on this host (student-laptop): /proc/driver/nvidia/version does not exist\n",
      "2023-05-14 12:18:31.324385: I tensorflow/core/platform/cpu_feature_guard.cc:193] This TensorFlow binary is optimized with oneAPI Deep Neural Network Library (oneDNN) to use the following CPU instructions in performance-critical operations:  AVX2 AVX512F AVX512_VNNI FMA\n",
      "To enable them in other operations, rebuild TensorFlow with the appropriate compiler flags.\n"
     ]
    }
   ],
   "source": [
    "model = keras.Sequential(\n",
    "    [\n",
    "        keras.Input(shape=input_shape),\n",
    "        layers.Conv2D(32, kernel_size=(3, 3), activation=\"relu\"),\n",
    "        layers.MaxPooling2D(pool_size=(2, 2)),\n",
    "        layers.Conv2D(128, kernel_size=(3, 3), activation=\"relu\"),\n",
    "        layers.MaxPooling2D(pool_size=(2, 2)),\n",
    "        layers.Flatten(),\n",
    "        layers.Dropout(0.5),\n",
    "        layers.Dense(64, activation='relu'),\n",
    "        layers.Dense(num_classes, activation=\"softmax\"),\n",
    "    ]\n",
    ")\n",
    "\n",
    "model.summary()"
   ]
  },
  {
   "attachments": {},
   "cell_type": "markdown",
   "id": "f8196b5a",
   "metadata": {},
   "source": [
    "# Entraînement du modèle "
   ]
  },
  {
   "cell_type": "code",
   "execution_count": 6,
   "id": "81dad65f",
   "metadata": {},
   "outputs": [
    {
     "name": "stdout",
     "output_type": "stream",
     "text": [
      "Epoch 1/15\n",
      "375/375 [==============================] - 17s 44ms/step - loss: 0.2631 - accuracy: 0.9215 - val_loss: 0.0746 - val_accuracy: 0.9778\n",
      "Epoch 2/15\n",
      "375/375 [==============================] - 16s 44ms/step - loss: 0.0799 - accuracy: 0.9757 - val_loss: 0.0556 - val_accuracy: 0.9819\n",
      "Epoch 3/15\n",
      "375/375 [==============================] - 19s 50ms/step - loss: 0.0578 - accuracy: 0.9814 - val_loss: 0.0546 - val_accuracy: 0.9835\n",
      "Epoch 4/15\n",
      "375/375 [==============================] - 16s 44ms/step - loss: 0.0474 - accuracy: 0.9851 - val_loss: 0.0394 - val_accuracy: 0.9882\n",
      "Epoch 5/15\n",
      "375/375 [==============================] - 14s 38ms/step - loss: 0.0379 - accuracy: 0.9878 - val_loss: 0.0409 - val_accuracy: 0.9885\n",
      "Epoch 6/15\n",
      "375/375 [==============================] - 15s 40ms/step - loss: 0.0342 - accuracy: 0.9890 - val_loss: 0.0340 - val_accuracy: 0.9900\n",
      "Epoch 7/15\n",
      "375/375 [==============================] - 15s 40ms/step - loss: 0.0297 - accuracy: 0.9901 - val_loss: 0.0343 - val_accuracy: 0.9904\n",
      "Epoch 8/15\n",
      "375/375 [==============================] - 16s 42ms/step - loss: 0.0262 - accuracy: 0.9909 - val_loss: 0.0325 - val_accuracy: 0.9919\n",
      "Epoch 9/15\n",
      "375/375 [==============================] - 16s 43ms/step - loss: 0.0227 - accuracy: 0.9924 - val_loss: 0.0316 - val_accuracy: 0.9922\n",
      "Epoch 10/15\n",
      "375/375 [==============================] - 19s 51ms/step - loss: 0.0205 - accuracy: 0.9927 - val_loss: 0.0315 - val_accuracy: 0.9923\n",
      "Epoch 11/15\n",
      "375/375 [==============================] - 16s 43ms/step - loss: 0.0194 - accuracy: 0.9933 - val_loss: 0.0318 - val_accuracy: 0.9926\n",
      "Epoch 12/15\n",
      "375/375 [==============================] - 16s 42ms/step - loss: 0.0186 - accuracy: 0.9939 - val_loss: 0.0329 - val_accuracy: 0.9909\n",
      "Epoch 13/15\n",
      "375/375 [==============================] - 14s 38ms/step - loss: 0.0143 - accuracy: 0.9951 - val_loss: 0.0310 - val_accuracy: 0.9926\n",
      "Epoch 14/15\n",
      "375/375 [==============================] - 15s 39ms/step - loss: 0.0142 - accuracy: 0.9953 - val_loss: 0.0331 - val_accuracy: 0.9918\n",
      "Epoch 15/15\n",
      "375/375 [==============================] - 16s 43ms/step - loss: 0.0140 - accuracy: 0.9955 - val_loss: 0.0302 - val_accuracy: 0.9923\n"
     ]
    },
    {
     "data": {
      "text/plain": [
       "<keras.callbacks.History at 0x7febdfb36170>"
      ]
     },
     "execution_count": 6,
     "metadata": {},
     "output_type": "execute_result"
    }
   ],
   "source": [
    "# Batch size est le nombre de données qui passent à travers le réseau simultanément\n",
    "# On le prend petit pour épargner la mémoire !\n",
    "batch_size = 128\n",
    "\n",
    "# On va entraîner sur 15 epochs\n",
    "epochs = 15\n",
    "\n",
    "# Configuration du modèle\n",
    "model.compile(loss=\"categorical_crossentropy\", optimizer=\"adam\", metrics=[\"accuracy\"])\n",
    "\n",
    "# Entrainement\n",
    "model.fit(x_train, y_train, batch_size=batch_size, epochs=epochs, validation_split=0.2)"
   ]
  },
  {
   "attachments": {},
   "cell_type": "markdown",
   "id": "658be198",
   "metadata": {},
   "source": [
    "# Sauvegarde du modèle"
   ]
  },
  {
   "cell_type": "code",
   "execution_count": 7,
   "id": "e3f50cfa",
   "metadata": {},
   "outputs": [],
   "source": [
    "# Sauvegarde\n",
    "model.save(\"model.h5\")"
   ]
  },
  {
   "attachments": {},
   "cell_type": "markdown",
   "id": "07152485",
   "metadata": {},
   "source": [
    "# Evaluation du modèle sur le jeu de données de test"
   ]
  },
  {
   "cell_type": "code",
   "execution_count": 8,
   "id": "f0e75ec7",
   "metadata": {},
   "outputs": [
    {
     "name": "stdout",
     "output_type": "stream",
     "text": [
      "Test loss: 0.020707393065094948\n",
      "Test accuracy: 0.993399977684021\n"
     ]
    }
   ],
   "source": [
    "score = model.evaluate(x_test, y_test, verbose=0)\n",
    "print(\"Test loss:\", score[0])\n",
    "print(\"Test accuracy:\", score[1])"
   ]
  },
  {
   "cell_type": "code",
   "execution_count": 9,
   "id": "b7b07308",
   "metadata": {},
   "outputs": [
    {
     "name": "stdout",
     "output_type": "stream",
     "text": [
      "313/313 [==============================] - 2s 5ms/step\n"
     ]
    }
   ],
   "source": [
    "# matrice de contingence\n",
    "from sklearn.metrics import confusion_matrix\n",
    "y_pred = model.predict(x_test)\n",
    "cm = confusion_matrix(y_test.argmax(axis=1), y_pred.argmax(axis=1))"
   ]
  },
  {
   "cell_type": "code",
   "execution_count": 10,
   "id": "92e939e5",
   "metadata": {},
   "outputs": [
    {
     "data": {
      "image/png": "[encoded data removed]",
      "text/plain": [
       "<Figure size 720x720 with 1 Axes>"
      ]
     },
     "metadata": {
      "needs_background": "light"
     },
     "output_type": "display_data"
    }
   ],
   "source": [
    "# Affichage de la matrice de contingence\n",
    "import seaborn as sns\n",
    "plt.figure(figsize=(10,10))\n",
    "sns.heatmap(cm, annot=True, fmt=\"d\", cbar=False, cmap=plt.cm.Blues, annot_kws={\"size\": 20})\n",
    "plt.gca().xaxis.tick_top()\n",
    "plt.ylabel('True label')\n",
    "plt.xlabel('Predicted label')\n",
    "# affichage du xlabel en haut\n",
    "plt.gca().xaxis.set_label_position('top')\n",
    "plt.title('Confusion matrix', fontsize=20)\n",
    "plt.show()"
   ]
  }
 ],
 "metadata": {
  "kernelspec": {
   "display_name": "Python 3",
   "language": "python",
   "name": "python3"
  },
  "language_info": {
   "codemirror_mode": {
    "name": "ipython",
    "version": 3
   },
   "file_extension": ".py",
   "mimetype": "text/x-python",
   "name": "python",
   "nbconvert_exporter": "python",
   "pygments_lexer": "ipython3",
   "version": "3.10.0"
  }
 },
 "nbformat": 4,
 "nbformat_minor": 5
}
